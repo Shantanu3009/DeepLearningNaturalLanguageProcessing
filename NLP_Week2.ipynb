{
 "cells": [
  {
   "cell_type": "markdown",
   "id": "6ca9e19e",
   "metadata": {},
   "source": [
    "Q1. Basic Data Understanding"
   ]
  },
  {
   "cell_type": "code",
   "execution_count": 46,
   "id": "2cd04b67",
   "metadata": {},
   "outputs": [],
   "source": [
    "import numpy as np \n",
    "import pandas as pd \n",
    "from matplotlib import pyplot as plt\n",
    "%matplotlib inline\n",
    "import seaborn as sns\n"
   ]
  },
  {
   "cell_type": "code",
   "execution_count": 47,
   "id": "ec9c01f6",
   "metadata": {},
   "outputs": [],
   "source": [
    "# Read data from ‘reviews.csv’ and ‘products.csv’\n",
    "product=pd.read_csv('product_data.csv')\n",
    "review=pd.read_csv('reviews.csv')\n"
   ]
  },
  {
   "cell_type": "code",
   "execution_count": 48,
   "id": "a5587b11",
   "metadata": {},
   "outputs": [
    {
     "data": {
      "text/plain": [
       "((720, 10), (67986, 8))"
      ]
     },
     "execution_count": 48,
     "metadata": {},
     "output_type": "execute_result"
    }
   ],
   "source": [
    "#Print shape of both the dataframes\n",
    "\n",
    "product.shape ,review.shape"
   ]
  },
  {
   "cell_type": "code",
   "execution_count": 49,
   "id": "8acde8db",
   "metadata": {},
   "outputs": [
    {
     "name": "stdout",
     "output_type": "stream",
     "text": [
      "<class 'pandas.core.frame.DataFrame'>\n",
      "RangeIndex: 720 entries, 0 to 719\n",
      "Data columns (total 10 columns):\n",
      " #   Column         Non-Null Count  Dtype  \n",
      "---  ------         --------------  -----  \n",
      " 0   asin           720 non-null    object \n",
      " 1   brand          716 non-null    object \n",
      " 2   title          720 non-null    object \n",
      " 3   url            720 non-null    object \n",
      " 4   image          720 non-null    object \n",
      " 5   rating         720 non-null    float64\n",
      " 6   reviewUrl      720 non-null    object \n",
      " 7   totalReviews   720 non-null    int64  \n",
      " 8   price          720 non-null    float64\n",
      " 9   originalPrice  720 non-null    float64\n",
      "dtypes: float64(3), int64(1), object(6)\n",
      "memory usage: 56.4+ KB\n"
     ]
    }
   ],
   "source": [
    "#Print types of columns for both the dataframes\n",
    "\n",
    "product.info()"
   ]
  },
  {
   "cell_type": "code",
   "execution_count": 50,
   "id": "42faca3d",
   "metadata": {},
   "outputs": [
    {
     "name": "stdout",
     "output_type": "stream",
     "text": [
      "<class 'pandas.core.frame.DataFrame'>\n",
      "RangeIndex: 67986 entries, 0 to 67985\n",
      "Data columns (total 8 columns):\n",
      " #   Column        Non-Null Count  Dtype  \n",
      "---  ------        --------------  -----  \n",
      " 0   asin          67986 non-null  object \n",
      " 1   name          67984 non-null  object \n",
      " 2   rating        67986 non-null  int64  \n",
      " 3   date          67986 non-null  object \n",
      " 4   verified      67986 non-null  bool   \n",
      " 5   title         67972 non-null  object \n",
      " 6   body          67965 non-null  object \n",
      " 7   helpfulVotes  27215 non-null  float64\n",
      "dtypes: bool(1), float64(1), int64(1), object(5)\n",
      "memory usage: 3.7+ MB\n"
     ]
    }
   ],
   "source": [
    "review.info()"
   ]
  },
  {
   "cell_type": "markdown",
   "id": "2b4b7079",
   "metadata": {},
   "source": [
    "Q2. Basic Data Analysis"
   ]
  },
  {
   "cell_type": "code",
   "execution_count": 51,
   "id": "dae6e09c",
   "metadata": {},
   "outputs": [],
   "source": [
    "#Drop all columns except: asin, rating, title, body from reviews\n",
    "\n",
    "review.drop(columns = ['name', 'date','verified', 'helpfulVotes'],inplace=True)\n"
   ]
  },
  {
   "cell_type": "code",
   "execution_count": 52,
   "id": "aa246138",
   "metadata": {},
   "outputs": [],
   "source": [
    "#Drop all columns except: asin, brand from products \n",
    "\n",
    " \n",
    "product.drop( columns=['title','url','image','rating','reviewUrl','totalReviews','price','originalPrice'],inplace=True)\n",
    " "
   ]
  },
  {
   "cell_type": "code",
   "execution_count": 53,
   "id": "9f56242a",
   "metadata": {
    "scrolled": true
   },
   "outputs": [
    {
     "data": {
      "text/plain": [
       "asin      False\n",
       "rating    False\n",
       "title      True\n",
       "body       True\n",
       "dtype: bool"
      ]
     },
     "execution_count": 53,
     "metadata": {},
     "output_type": "execute_result"
    }
   ],
   "source": [
    "#Verify and drop all null values from both the tables \n",
    "review.isnull().any()\n",
    "\n",
    "#title has null values"
   ]
  },
  {
   "cell_type": "code",
   "execution_count": 54,
   "id": "72c2ccf5",
   "metadata": {},
   "outputs": [],
   "source": [
    "review.dropna(subset=['title'],inplace=True)"
   ]
  },
  {
   "cell_type": "code",
   "execution_count": 55,
   "id": "f80e92ce",
   "metadata": {},
   "outputs": [
    {
     "data": {
      "text/plain": [
       "asin     False\n",
       "brand     True\n",
       "dtype: bool"
      ]
     },
     "execution_count": 55,
     "metadata": {},
     "output_type": "execute_result"
    }
   ],
   "source": [
    "product.isnull().any()\n",
    "\n",
    "#brand has null values"
   ]
  },
  {
   "cell_type": "code",
   "execution_count": 56,
   "id": "f316b04d",
   "metadata": {},
   "outputs": [],
   "source": [
    "product.dropna(subset=['brand'],inplace=True)"
   ]
  },
  {
   "cell_type": "code",
   "execution_count": 57,
   "id": "79174ccc",
   "metadata": {},
   "outputs": [],
   "source": [
    "# Merge both the tables on key ‘asin’ \n",
    "\n",
    "df=review.merge(product,how='inner',on='asin')"
   ]
  },
  {
   "cell_type": "code",
   "execution_count": 58,
   "id": "82e11d5a",
   "metadata": {},
   "outputs": [
    {
     "data": {
      "text/plain": [
       "(67772, 5)"
      ]
     },
     "execution_count": 58,
     "metadata": {},
     "output_type": "execute_result"
    }
   ],
   "source": [
    "df.shape"
   ]
  },
  {
   "cell_type": "code",
   "execution_count": 59,
   "id": "a1a4e479",
   "metadata": {},
   "outputs": [
    {
     "name": "stdout",
     "output_type": "stream",
     "text": [
      "\n",
      "Missing values :   16\n"
     ]
    }
   ],
   "source": [
    "# The total number of missing values in the dataframe\n",
    "print (  \"\\nMissing values :  \", df.isnull().sum().values.sum()  )"
   ]
  },
  {
   "cell_type": "code",
   "execution_count": 60,
   "id": "c585114b",
   "metadata": {},
   "outputs": [
    {
     "data": {
      "text/plain": [
       "count    67772.000000\n",
       "mean         3.807693\n",
       "std          1.583196\n",
       "min          1.000000\n",
       "25%          3.000000\n",
       "50%          5.000000\n",
       "75%          5.000000\n",
       "max          5.000000\n",
       "Name: rating, dtype: float64"
      ]
     },
     "execution_count": 60,
     "metadata": {},
     "output_type": "execute_result"
    }
   ],
   "source": [
    "#Check the statistical summary of ‘rating’ and share insights \n",
    "\n",
    "df['rating'].describe()"
   ]
  },
  {
   "cell_type": "code",
   "execution_count": 61,
   "id": "4fac95a4",
   "metadata": {},
   "outputs": [
    {
     "data": {
      "text/plain": [
       "<AxesSubplot:xlabel='rating', ylabel='Count'>"
      ]
     },
     "execution_count": 61,
     "metadata": {},
     "output_type": "execute_result"
    },
    {
     "data": {
      "image/png": "[encoded data removed]",
      "text/plain": [
       "<Figure size 432x288 with 1 Axes>"
      ]
     },
     "metadata": {
      "needs_background": "light"
     },
     "output_type": "display_data"
    }
   ],
   "source": [
    "sns.histplot(df['rating'])\n",
    "\n",
    "#The highest rating given is 5\n",
    "#The average rating given is 4"
   ]
  },
  {
   "cell_type": "code",
   "execution_count": 62,
   "id": "be988506",
   "metadata": {},
   "outputs": [
    {
     "data": {
      "text/plain": [
       "<AxesSubplot:xlabel='rating', ylabel='count'>"
      ]
     },
     "execution_count": 62,
     "metadata": {},
     "output_type": "execute_result"
    },
    {
     "data": {
      "image/png": "[encoded data removed]",
      "text/plain": [
       "<Figure size 432x288 with 1 Axes>"
      ]
     },
     "metadata": {
      "needs_background": "light"
     },
     "output_type": "display_data"
    }
   ],
   "source": [
    "#Visualize a countplot for rating and share insights \n",
    "\n",
    "sns.countplot(x ='rating', data = df)"
   ]
  },
  {
   "cell_type": "code",
   "execution_count": 63,
   "id": "9664a7ea",
   "metadata": {
    "scrolled": true
   },
   "outputs": [
    {
     "data": {
      "text/plain": [
       "Samsung     33616\n",
       "Motorola     8880\n",
       "Nokia        5915\n",
       "Apple        5144\n",
       "Xiaomi       4411\n",
       "Google       3787\n",
       "Sony         3196\n",
       "HUAWEI       2225\n",
       "OnePlus       347\n",
       "ASUS          251\n",
       "Name: brand, dtype: int64"
      ]
     },
     "execution_count": 63,
     "metadata": {},
     "output_type": "execute_result"
    }
   ],
   "source": [
    "#Visualize distribution of ‘brand’ and share insights \n",
    "df.brand.value_counts()"
   ]
  },
  {
   "cell_type": "code",
   "execution_count": 64,
   "id": "9385b240",
   "metadata": {},
   "outputs": [
    {
     "data": {
      "text/plain": [
       "<AxesSubplot:xlabel='brand', ylabel='count'>"
      ]
     },
     "execution_count": 64,
     "metadata": {},
     "output_type": "execute_result"
    },
    {
     "data": {
      "image/png": "[encoded data removed]",
      "text/plain": [
       "<Figure size 720x504 with 1 Axes>"
      ]
     },
     "metadata": {
      "needs_background": "light"
     },
     "output_type": "display_data"
    }
   ],
   "source": [
    "\n",
    "plt.figure(figsize=(10,7))\n",
    "sns.countplot(x ='brand', data = df)"
   ]
  },
  {
   "cell_type": "code",
   "execution_count": 65,
   "id": "cc264eb1",
   "metadata": {},
   "outputs": [
    {
     "data": {
      "text/plain": [
       "5    37636\n",
       "1    12713\n",
       "4     8789\n",
       "3     4738\n",
       "2     3896\n",
       "Name: rating, dtype: int64"
      ]
     },
     "execution_count": 65,
     "metadata": {},
     "output_type": "execute_result"
    }
   ],
   "source": [
    "#Visualize distribution of ‘rating’ and share insights \n",
    "df.rating.value_counts()\n"
   ]
  },
  {
   "cell_type": "markdown",
   "id": "c94d72b2",
   "metadata": {},
   "source": [
    "Q3. Data Preparation \n",
    "\n",
    "\n",
    "Insert new Column in DataFrame ‘Sentiment’ and\n",
    "\n",
    "\n",
    "Assign Sentiment= 1 when Rating >3;\n",
    "\n",
    "\n",
    "Sentiment= -1 when Rating <3 and\n",
    "\n",
    "\n",
    "Sentiment=  0 when rating = 3.\n",
    "\n",
    "\n",
    "(This step is to create target class where 1 indicates positive sentiment, -1 indicates\n",
    "negative sentiment and 0 indicates neutral sentiment)"
   ]
  },
  {
   "cell_type": "code",
   "execution_count": 66,
   "id": "897754c3",
   "metadata": {},
   "outputs": [
    {
     "data": {
      "text/html": [
       "<div>\n",
       "<style scoped>\n",
       "    .dataframe tbody tr th:only-of-type {\n",
       "        vertical-align: middle;\n",
       "    }\n",
       "\n",
       "    .dataframe tbody tr th {\n",
       "        vertical-align: top;\n",
       "    }\n",
       "\n",
       "    .dataframe thead th {\n",
       "        text-align: right;\n",
       "    }\n",
       "</style>\n",
       "<table border=\"1\" class=\"dataframe\">\n",
       "  <thead>\n",
       "    <tr style=\"text-align: right;\">\n",
       "      <th></th>\n",
       "      <th>asin</th>\n",
       "      <th>rating</th>\n",
       "      <th>title</th>\n",
       "      <th>body</th>\n",
       "      <th>brand</th>\n",
       "      <th>Sentiment</th>\n",
       "    </tr>\n",
       "  </thead>\n",
       "  <tbody>\n",
       "    <tr>\n",
       "      <th>0</th>\n",
       "      <td>B0009N5L7K</td>\n",
       "      <td>1</td>\n",
       "      <td>Stupid phone</td>\n",
       "      <td>DON'T BUY OUT OF SERVICE</td>\n",
       "      <td>Motorola</td>\n",
       "      <td>-1</td>\n",
       "    </tr>\n",
       "    <tr>\n",
       "      <th>1</th>\n",
       "      <td>B0009N5L7K</td>\n",
       "      <td>4</td>\n",
       "      <td>Exellent Service</td>\n",
       "      <td>I have been with nextel for nearly a year now ...</td>\n",
       "      <td>Motorola</td>\n",
       "      <td>1</td>\n",
       "    </tr>\n",
       "    <tr>\n",
       "      <th>2</th>\n",
       "      <td>B0009N5L7K</td>\n",
       "      <td>5</td>\n",
       "      <td>I love it</td>\n",
       "      <td>I just got it and have to say its easy to use,...</td>\n",
       "      <td>Motorola</td>\n",
       "      <td>1</td>\n",
       "    </tr>\n",
       "    <tr>\n",
       "      <th>3</th>\n",
       "      <td>B0009N5L7K</td>\n",
       "      <td>1</td>\n",
       "      <td>Phones locked</td>\n",
       "      <td>1 star because the phones locked so I have to ...</td>\n",
       "      <td>Motorola</td>\n",
       "      <td>-1</td>\n",
       "    </tr>\n",
       "    <tr>\n",
       "      <th>4</th>\n",
       "      <td>B0009N5L7K</td>\n",
       "      <td>5</td>\n",
       "      <td>Excellent product</td>\n",
       "      <td>The product has been very good. I had used thi...</td>\n",
       "      <td>Motorola</td>\n",
       "      <td>1</td>\n",
       "    </tr>\n",
       "  </tbody>\n",
       "</table>\n",
       "</div>"
      ],
      "text/plain": [
       "         asin  rating              title  \\\n",
       "0  B0009N5L7K       1       Stupid phone   \n",
       "1  B0009N5L7K       4   Exellent Service   \n",
       "2  B0009N5L7K       5          I love it   \n",
       "3  B0009N5L7K       1      Phones locked   \n",
       "4  B0009N5L7K       5  Excellent product   \n",
       "\n",
       "                                                body     brand Sentiment  \n",
       "0                           DON'T BUY OUT OF SERVICE  Motorola        -1  \n",
       "1  I have been with nextel for nearly a year now ...  Motorola         1  \n",
       "2  I just got it and have to say its easy to use,...  Motorola         1  \n",
       "3  1 star because the phones locked so I have to ...  Motorola        -1  \n",
       "4  The product has been very good. I had used thi...  Motorola         1  "
      ]
     },
     "execution_count": 66,
     "metadata": {},
     "output_type": "execute_result"
    }
   ],
   "source": [
    "conditions = [\n",
    "    (df['rating'] < 3),\n",
    "    (df['rating'] > 3),\n",
    "    (df['rating'] == 3)\n",
    "    ]\n",
    "\n",
    "# create a list of the values we want to assign for each condition\n",
    "values = ['-1', '1', '0']\n",
    "\n",
    "# create a new column and use np.select to assign values to it using our lists as arguments\n",
    "df['Sentiment'] = np.select(conditions, values)\n",
    "\n",
    "# display updated DataFrame\n",
    "df.head(5)"
   ]
  },
  {
   "cell_type": "markdown",
   "id": "98a762dc",
   "metadata": {},
   "source": [
    "Q4. Data Visualization"
   ]
  },
  {
   "cell_type": "code",
   "execution_count": 67,
   "id": "cd7e6ff2",
   "metadata": {},
   "outputs": [
    {
     "data": {
      "text/plain": [
       "<AxesSubplot:xlabel='Sentiment', ylabel='count'>"
      ]
     },
     "execution_count": 67,
     "metadata": {},
     "output_type": "execute_result"
    },
    {
     "data": {
      "image/png": "[encoded data removed]",
      "text/plain": [
       "<Figure size 720x504 with 1 Axes>"
      ]
     },
     "metadata": {
      "needs_background": "light"
     },
     "output_type": "display_data"
    }
   ],
   "source": [
    "#Visualize distribution of ‘sentiment’ and share insights \n",
    "\n",
    "plt.figure(figsize=(10,7))\n",
    "sns.countplot(x ='Sentiment', data = df)"
   ]
  },
  {
   "cell_type": "code",
   "execution_count": 68,
   "id": "1f50666b",
   "metadata": {},
   "outputs": [],
   "source": [
    "#Visualize a crosstab of ‘brand’ with sentiment"
   ]
  },
  {
   "cell_type": "code",
   "execution_count": 69,
   "id": "1c63a3b0",
   "metadata": {
    "scrolled": true
   },
   "outputs": [
    {
     "data": {
      "text/html": [
       "<div>\n",
       "<style scoped>\n",
       "    .dataframe tbody tr th:only-of-type {\n",
       "        vertical-align: middle;\n",
       "    }\n",
       "\n",
       "    .dataframe tbody tr th {\n",
       "        vertical-align: top;\n",
       "    }\n",
       "\n",
       "    .dataframe thead th {\n",
       "        text-align: right;\n",
       "    }\n",
       "</style>\n",
       "<table border=\"1\" class=\"dataframe\">\n",
       "  <thead>\n",
       "    <tr style=\"text-align: right;\">\n",
       "      <th>Sentiment</th>\n",
       "      <th>-1</th>\n",
       "      <th>0</th>\n",
       "      <th>1</th>\n",
       "      <th>Total</th>\n",
       "    </tr>\n",
       "    <tr>\n",
       "      <th>brand</th>\n",
       "      <th></th>\n",
       "      <th></th>\n",
       "      <th></th>\n",
       "      <th></th>\n",
       "    </tr>\n",
       "  </thead>\n",
       "  <tbody>\n",
       "    <tr>\n",
       "      <th>ASUS</th>\n",
       "      <td>64</td>\n",
       "      <td>25</td>\n",
       "      <td>162</td>\n",
       "      <td>251</td>\n",
       "    </tr>\n",
       "    <tr>\n",
       "      <th>Apple</th>\n",
       "      <td>1434</td>\n",
       "      <td>322</td>\n",
       "      <td>3388</td>\n",
       "      <td>5144</td>\n",
       "    </tr>\n",
       "    <tr>\n",
       "      <th>Google</th>\n",
       "      <td>1169</td>\n",
       "      <td>267</td>\n",
       "      <td>2351</td>\n",
       "      <td>3787</td>\n",
       "    </tr>\n",
       "    <tr>\n",
       "      <th>HUAWEI</th>\n",
       "      <td>309</td>\n",
       "      <td>124</td>\n",
       "      <td>1792</td>\n",
       "      <td>2225</td>\n",
       "    </tr>\n",
       "    <tr>\n",
       "      <th>Motorola</th>\n",
       "      <td>2104</td>\n",
       "      <td>653</td>\n",
       "      <td>6123</td>\n",
       "      <td>8880</td>\n",
       "    </tr>\n",
       "    <tr>\n",
       "      <th>Nokia</th>\n",
       "      <td>1710</td>\n",
       "      <td>540</td>\n",
       "      <td>3665</td>\n",
       "      <td>5915</td>\n",
       "    </tr>\n",
       "    <tr>\n",
       "      <th>OnePlus</th>\n",
       "      <td>52</td>\n",
       "      <td>13</td>\n",
       "      <td>282</td>\n",
       "      <td>347</td>\n",
       "    </tr>\n",
       "    <tr>\n",
       "      <th>Samsung</th>\n",
       "      <td>8537</td>\n",
       "      <td>2292</td>\n",
       "      <td>22787</td>\n",
       "      <td>33616</td>\n",
       "    </tr>\n",
       "    <tr>\n",
       "      <th>Sony</th>\n",
       "      <td>770</td>\n",
       "      <td>280</td>\n",
       "      <td>2146</td>\n",
       "      <td>3196</td>\n",
       "    </tr>\n",
       "    <tr>\n",
       "      <th>Xiaomi</th>\n",
       "      <td>460</td>\n",
       "      <td>222</td>\n",
       "      <td>3729</td>\n",
       "      <td>4411</td>\n",
       "    </tr>\n",
       "    <tr>\n",
       "      <th>Total</th>\n",
       "      <td>16609</td>\n",
       "      <td>4738</td>\n",
       "      <td>46425</td>\n",
       "      <td>67772</td>\n",
       "    </tr>\n",
       "  </tbody>\n",
       "</table>\n",
       "</div>"
      ],
      "text/plain": [
       "Sentiment     -1     0      1  Total\n",
       "brand                               \n",
       "ASUS          64    25    162    251\n",
       "Apple       1434   322   3388   5144\n",
       "Google      1169   267   2351   3787\n",
       "HUAWEI       309   124   1792   2225\n",
       "Motorola    2104   653   6123   8880\n",
       "Nokia       1710   540   3665   5915\n",
       "OnePlus       52    13    282    347\n",
       "Samsung     8537  2292  22787  33616\n",
       "Sony         770   280   2146   3196\n",
       "Xiaomi       460   222   3729   4411\n",
       "Total      16609  4738  46425  67772"
      ]
     },
     "execution_count": 69,
     "metadata": {},
     "output_type": "execute_result"
    }
   ],
   "source": [
    "pd.crosstab(df.brand,df.Sentiment,margins=True, margins_name=\"Total\")"
   ]
  },
  {
   "cell_type": "code",
   "execution_count": 70,
   "id": "7602e973",
   "metadata": {},
   "outputs": [
    {
     "data": {
      "text/plain": [
       "<AxesSubplot:xlabel='Sentiment', ylabel='brand'>"
      ]
     },
     "execution_count": 70,
     "metadata": {},
     "output_type": "execute_result"
    },
    {
     "data": {
      "image/png": "[encoded data removed]",
      "text/plain": [
       "<Figure size 720x1080 with 2 Axes>"
      ]
     },
     "metadata": {
      "needs_background": "light"
     },
     "output_type": "display_data"
    }
   ],
   "source": [
    "plt.figure(figsize=(10,15))\n",
    "sns.heatmap(pd.crosstab(df.brand, df.Sentiment,), cmap=\"YlGnBu\", annot=True,fmt='.5g' )"
   ]
  },
  {
   "cell_type": "markdown",
   "id": "90367487",
   "metadata": {},
   "source": [
    "Q5. Textual Data Pre-processing\n"
   ]
  },
  {
   "cell_type": "code",
   "execution_count": 71,
   "id": "72b3dc4e",
   "metadata": {
    "scrolled": true
   },
   "outputs": [
    {
     "data": {
      "text/html": [
       "<div>\n",
       "<style scoped>\n",
       "    .dataframe tbody tr th:only-of-type {\n",
       "        vertical-align: middle;\n",
       "    }\n",
       "\n",
       "    .dataframe tbody tr th {\n",
       "        vertical-align: top;\n",
       "    }\n",
       "\n",
       "    .dataframe thead th {\n",
       "        text-align: right;\n",
       "    }\n",
       "</style>\n",
       "<table border=\"1\" class=\"dataframe\">\n",
       "  <thead>\n",
       "    <tr style=\"text-align: right;\">\n",
       "      <th></th>\n",
       "      <th>asin</th>\n",
       "      <th>rating</th>\n",
       "      <th>title</th>\n",
       "      <th>body</th>\n",
       "      <th>brand</th>\n",
       "      <th>Sentiment</th>\n",
       "    </tr>\n",
       "  </thead>\n",
       "  <tbody>\n",
       "    <tr>\n",
       "      <th>0</th>\n",
       "      <td>B0009N5L7K</td>\n",
       "      <td>1</td>\n",
       "      <td>stupid phone</td>\n",
       "      <td>don't buy out of service</td>\n",
       "      <td>Motorola</td>\n",
       "      <td>-1</td>\n",
       "    </tr>\n",
       "    <tr>\n",
       "      <th>1</th>\n",
       "      <td>B0009N5L7K</td>\n",
       "      <td>4</td>\n",
       "      <td>exellent service</td>\n",
       "      <td>i have been with nextel for nearly a year now ...</td>\n",
       "      <td>Motorola</td>\n",
       "      <td>1</td>\n",
       "    </tr>\n",
       "    <tr>\n",
       "      <th>2</th>\n",
       "      <td>B0009N5L7K</td>\n",
       "      <td>5</td>\n",
       "      <td>i love it</td>\n",
       "      <td>i just got it and have to say its easy to use,...</td>\n",
       "      <td>Motorola</td>\n",
       "      <td>1</td>\n",
       "    </tr>\n",
       "    <tr>\n",
       "      <th>3</th>\n",
       "      <td>B0009N5L7K</td>\n",
       "      <td>1</td>\n",
       "      <td>phones locked</td>\n",
       "      <td>1 star because the phones locked so i have to ...</td>\n",
       "      <td>Motorola</td>\n",
       "      <td>-1</td>\n",
       "    </tr>\n",
       "    <tr>\n",
       "      <th>4</th>\n",
       "      <td>B0009N5L7K</td>\n",
       "      <td>5</td>\n",
       "      <td>excellent product</td>\n",
       "      <td>the product has been very good. i had used thi...</td>\n",
       "      <td>Motorola</td>\n",
       "      <td>1</td>\n",
       "    </tr>\n",
       "  </tbody>\n",
       "</table>\n",
       "</div>"
      ],
      "text/plain": [
       "         asin  rating              title  \\\n",
       "0  B0009N5L7K       1       stupid phone   \n",
       "1  B0009N5L7K       4   exellent service   \n",
       "2  B0009N5L7K       5          i love it   \n",
       "3  B0009N5L7K       1      phones locked   \n",
       "4  B0009N5L7K       5  excellent product   \n",
       "\n",
       "                                                body     brand Sentiment  \n",
       "0                           don't buy out of service  Motorola        -1  \n",
       "1  i have been with nextel for nearly a year now ...  Motorola         1  \n",
       "2  i just got it and have to say its easy to use,...  Motorola         1  \n",
       "3  1 star because the phones locked so i have to ...  Motorola        -1  \n",
       "4  the product has been very good. i had used thi...  Motorola         1  "
      ]
     },
     "execution_count": 71,
     "metadata": {},
     "output_type": "execute_result"
    }
   ],
   "source": [
    "#Lowercase all data in columns ‘title’ and ‘body’\n",
    "\n",
    "df[\"title\"] = df[\"title\"].str.lower()\n",
    "df[\"body\"] = df[\"body\"].str.lower()\n",
    "\n",
    "df.head(5)"
   ]
  },
  {
   "cell_type": "code",
   "execution_count": 72,
   "id": "265f4d76",
   "metadata": {
    "scrolled": false
   },
   "outputs": [
    {
     "name": "stderr",
     "output_type": "stream",
     "text": [
      "C:\\Users\\asus\\AppData\\Local\\Temp/ipykernel_8236/3443410143.py:3: FutureWarning: The default value of regex will change from True to False in a future version.\n",
      "  df[\"title\"] = df['title'].str.replace('[^\\w\\s]','')\n",
      "C:\\Users\\asus\\AppData\\Local\\Temp/ipykernel_8236/3443410143.py:4: FutureWarning: The default value of regex will change from True to False in a future version.\n",
      "  df[\"body\"] = df['body'].str.replace('[^\\w\\s]','')\n"
     ]
    }
   ],
   "source": [
    "#Remove all punctuations from columns ‘title’ and ‘body’ \n",
    "\n",
    "df[\"title\"] = df['title'].str.replace('[^\\w\\s]','')\n",
    "df[\"body\"] = df['body'].str.replace('[^\\w\\s]','')"
   ]
  },
  {
   "cell_type": "code",
   "execution_count": 73,
   "id": "d8079957",
   "metadata": {},
   "outputs": [
    {
     "name": "stderr",
     "output_type": "stream",
     "text": [
      "[nltk_data] Downloading package wordnet to\n",
      "[nltk_data]     C:\\Users\\asus\\AppData\\Roaming\\nltk_data...\n",
      "[nltk_data]   Package wordnet is already up-to-date!\n"
     ]
    }
   ],
   "source": [
    "#Remove stopwords from columns ‘title’ and ‘body’\n",
    "import nltk\n",
    "nltk.download('wordnet')\n",
    "from nltk.tokenize import word_tokenize\n",
    "from nltk.corpus import stopwords\n",
    "from string import punctuation\n",
    "import re\n",
    "\n",
    "#Function for data cleaning\n",
    "Cstopwords=set(stopwords.words('english')+list(punctuation))\n",
    "from nltk.stem import WordNetLemmatizer\n",
    "lemma=WordNetLemmatizer()\n",
    "def clean_data(data_column):\n",
    "    data_corpus=[]    \n",
    "    data=data_column\n",
    "    #Data=BeautifulSoup(data,'lxml').text\n",
    "    data=re.sub('[^a-zA-Z]',' ',data)\n",
    "    data=str(data).lower()\n",
    "    data=word_tokenize(data)\n",
    "    #data=[stemmer.stem(w) for w in data if w not in Cstopwords]\n",
    "    data=[lemma.lemmatize(w) for w in data ]\n",
    "    data=' '.join(data)\n",
    "    data_corpus.append(data)\n",
    "    return data"
   ]
  },
  {
   "cell_type": "code",
   "execution_count": 74,
   "id": "ad2683ab",
   "metadata": {},
   "outputs": [],
   "source": [
    "title_column=df['title']\n",
    "title_corpus=title_column.apply(clean_data)"
   ]
  },
  {
   "cell_type": "code",
   "execution_count": 75,
   "id": "44da60af",
   "metadata": {
    "scrolled": true
   },
   "outputs": [
    {
     "data": {
      "text/plain": [
       "0                                             stupid phone\n",
       "1                                         exellent service\n",
       "2                                                i love it\n",
       "3                                            phones locked\n",
       "4                                        excellent product\n",
       "                               ...                        \n",
       "67767       awesome phone but finger scanner is a big miss\n",
       "67768                                       simply amazing\n",
       "67769    great phon3 but many bugs need to fix still wa...\n",
       "67770                                    phone is like new\n",
       "67771                      outstanding phone for the price\n",
       "Name: title, Length: 67772, dtype: object"
      ]
     },
     "execution_count": 75,
     "metadata": {},
     "output_type": "execute_result"
    }
   ],
   "source": [
    "title_column"
   ]
  },
  {
   "cell_type": "code",
   "execution_count": 76,
   "id": "76b8f110",
   "metadata": {},
   "outputs": [],
   "source": [
    "df['body']=df['body'].apply(str)"
   ]
  },
  {
   "cell_type": "code",
   "execution_count": 77,
   "id": "c1bbcef1",
   "metadata": {},
   "outputs": [],
   "source": [
    "body_column=df['body']\n",
    "body_corpus=body_column.apply(clean_data)"
   ]
  },
  {
   "cell_type": "code",
   "execution_count": 78,
   "id": "8ce6fcd3",
   "metadata": {},
   "outputs": [
    {
     "data": {
      "text/plain": [
       "0                                  dont buy out of service\n",
       "1        i have been with nextel for nearly a year now ...\n",
       "2        i just got it and have to say its easy to use ...\n",
       "3        1 star because the phones locked so i have to ...\n",
       "4        the product has been very good i had used this...\n",
       "                               ...                        \n",
       "67767    i love the camera on this phone the screen is ...\n",
       "67768    ive been an xperia user for several years and ...\n",
       "67769                           buy one more for my cousin\n",
       "67770    product looks and works like new very much rec...\n",
       "67771    i love the size and style of this phone it is ...\n",
       "Name: body, Length: 67772, dtype: object"
      ]
     },
     "execution_count": 78,
     "metadata": {},
     "output_type": "execute_result"
    }
   ],
   "source": [
    "body_column"
   ]
  },
  {
   "cell_type": "code",
   "execution_count": 79,
   "id": "af323535",
   "metadata": {},
   "outputs": [],
   "source": [
    "df['clean_title'] = title_corpus\n",
    "df['clean_body'] = body_corpus"
   ]
  },
  {
   "cell_type": "code",
   "execution_count": 80,
   "id": "fbf9eb05",
   "metadata": {
    "scrolled": true
   },
   "outputs": [
    {
     "data": {
      "text/html": [
       "<div>\n",
       "<style scoped>\n",
       "    .dataframe tbody tr th:only-of-type {\n",
       "        vertical-align: middle;\n",
       "    }\n",
       "\n",
       "    .dataframe tbody tr th {\n",
       "        vertical-align: top;\n",
       "    }\n",
       "\n",
       "    .dataframe thead th {\n",
       "        text-align: right;\n",
       "    }\n",
       "</style>\n",
       "<table border=\"1\" class=\"dataframe\">\n",
       "  <thead>\n",
       "    <tr style=\"text-align: right;\">\n",
       "      <th></th>\n",
       "      <th>asin</th>\n",
       "      <th>rating</th>\n",
       "      <th>title</th>\n",
       "      <th>body</th>\n",
       "      <th>brand</th>\n",
       "      <th>Sentiment</th>\n",
       "      <th>clean_title</th>\n",
       "      <th>clean_body</th>\n",
       "    </tr>\n",
       "  </thead>\n",
       "  <tbody>\n",
       "    <tr>\n",
       "      <th>0</th>\n",
       "      <td>B0009N5L7K</td>\n",
       "      <td>1</td>\n",
       "      <td>stupid phone</td>\n",
       "      <td>dont buy out of service</td>\n",
       "      <td>Motorola</td>\n",
       "      <td>-1</td>\n",
       "      <td>stupid phone</td>\n",
       "      <td>dont buy out of service</td>\n",
       "    </tr>\n",
       "    <tr>\n",
       "      <th>1</th>\n",
       "      <td>B0009N5L7K</td>\n",
       "      <td>4</td>\n",
       "      <td>exellent service</td>\n",
       "      <td>i have been with nextel for nearly a year now ...</td>\n",
       "      <td>Motorola</td>\n",
       "      <td>1</td>\n",
       "      <td>exellent service</td>\n",
       "      <td>i have been with nextel for nearly a year now ...</td>\n",
       "    </tr>\n",
       "    <tr>\n",
       "      <th>2</th>\n",
       "      <td>B0009N5L7K</td>\n",
       "      <td>5</td>\n",
       "      <td>i love it</td>\n",
       "      <td>i just got it and have to say its easy to use ...</td>\n",
       "      <td>Motorola</td>\n",
       "      <td>1</td>\n",
       "      <td>i love it</td>\n",
       "      <td>i just got it and have to say it easy to use i...</td>\n",
       "    </tr>\n",
       "    <tr>\n",
       "      <th>3</th>\n",
       "      <td>B0009N5L7K</td>\n",
       "      <td>1</td>\n",
       "      <td>phones locked</td>\n",
       "      <td>1 star because the phones locked so i have to ...</td>\n",
       "      <td>Motorola</td>\n",
       "      <td>-1</td>\n",
       "      <td>phone locked</td>\n",
       "      <td>star because the phone locked so i have to pay...</td>\n",
       "    </tr>\n",
       "    <tr>\n",
       "      <th>4</th>\n",
       "      <td>B0009N5L7K</td>\n",
       "      <td>5</td>\n",
       "      <td>excellent product</td>\n",
       "      <td>the product has been very good i had used this...</td>\n",
       "      <td>Motorola</td>\n",
       "      <td>1</td>\n",
       "      <td>excellent product</td>\n",
       "      <td>the product ha been very good i had used this ...</td>\n",
       "    </tr>\n",
       "    <tr>\n",
       "      <th>5</th>\n",
       "      <td>B0009N5L7K</td>\n",
       "      <td>1</td>\n",
       "      <td>warning</td>\n",
       "      <td>my problems with nextel did not stop when i ca...</td>\n",
       "      <td>Motorola</td>\n",
       "      <td>-1</td>\n",
       "      <td>warning</td>\n",
       "      <td>my problem with nextel did not stop when i can...</td>\n",
       "    </tr>\n",
       "    <tr>\n",
       "      <th>6</th>\n",
       "      <td>B0009N5L7K</td>\n",
       "      <td>5</td>\n",
       "      <td>nextel boost phone</td>\n",
       "      <td>great product that is as great for nextel as i...</td>\n",
       "      <td>Motorola</td>\n",
       "      <td>1</td>\n",
       "      <td>nextel boost phone</td>\n",
       "      <td>great product that is a great for nextel a it ...</td>\n",
       "    </tr>\n",
       "    <tr>\n",
       "      <th>7</th>\n",
       "      <td>B000SKTZ0S</td>\n",
       "      <td>4</td>\n",
       "      <td>nice but</td>\n",
       "      <td>i bought this phone to replace an lg phone tha...</td>\n",
       "      <td>Motorola</td>\n",
       "      <td>1</td>\n",
       "      <td>nice but</td>\n",
       "      <td>i bought this phone to replace an lg phone tha...</td>\n",
       "    </tr>\n",
       "    <tr>\n",
       "      <th>8</th>\n",
       "      <td>B000SKTZ0S</td>\n",
       "      <td>1</td>\n",
       "      <td>it seems it doesnt work with the existing att ...</td>\n",
       "      <td>i purchased this phone for my att phone replac...</td>\n",
       "      <td>Motorola</td>\n",
       "      <td>-1</td>\n",
       "      <td>it seems it doesnt work with the existing att ...</td>\n",
       "      <td>i purchased this phone for my att phone replac...</td>\n",
       "    </tr>\n",
       "    <tr>\n",
       "      <th>9</th>\n",
       "      <td>B000SKTZ0S</td>\n",
       "      <td>1</td>\n",
       "      <td>supply are needed</td>\n",
       "      <td>the phone did not come with a charger and didn...</td>\n",
       "      <td>Motorola</td>\n",
       "      <td>-1</td>\n",
       "      <td>supply are needed</td>\n",
       "      <td>the phone did not come with a charger and didn...</td>\n",
       "    </tr>\n",
       "    <tr>\n",
       "      <th>10</th>\n",
       "      <td>B000SKTZ0S</td>\n",
       "      <td>5</td>\n",
       "      <td>five stars</td>\n",
       "      <td>served me well as a back up phone</td>\n",
       "      <td>Motorola</td>\n",
       "      <td>1</td>\n",
       "      <td>five star</td>\n",
       "      <td>served me well a a back up phone</td>\n",
       "    </tr>\n",
       "    <tr>\n",
       "      <th>11</th>\n",
       "      <td>B000SKTZ0S</td>\n",
       "      <td>3</td>\n",
       "      <td>does the job</td>\n",
       "      <td>i got this phone just as secondary cell phone ...</td>\n",
       "      <td>Motorola</td>\n",
       "      <td>0</td>\n",
       "      <td>doe the job</td>\n",
       "      <td>i got this phone just a secondary cell phone i...</td>\n",
       "    </tr>\n",
       "    <tr>\n",
       "      <th>12</th>\n",
       "      <td>B000SKTZ0S</td>\n",
       "      <td>4</td>\n",
       "      <td>awesome with a but</td>\n",
       "      <td>sturdy  clarity is great  easy to use only pro...</td>\n",
       "      <td>Motorola</td>\n",
       "      <td>1</td>\n",
       "      <td>awesome with a but</td>\n",
       "      <td>sturdy clarity is great easy to use only probl...</td>\n",
       "    </tr>\n",
       "    <tr>\n",
       "      <th>13</th>\n",
       "      <td>B000SKTZ0S</td>\n",
       "      <td>1</td>\n",
       "      <td>one star</td>\n",
       "      <td>phone stoped working</td>\n",
       "      <td>Motorola</td>\n",
       "      <td>-1</td>\n",
       "      <td>one star</td>\n",
       "      <td>phone stoped working</td>\n",
       "    </tr>\n",
       "    <tr>\n",
       "      <th>14</th>\n",
       "      <td>B000SKTZ0S</td>\n",
       "      <td>5</td>\n",
       "      <td>is cheap but ok quality</td>\n",
       "      <td>it does a beautiful job i have used this item ...</td>\n",
       "      <td>Motorola</td>\n",
       "      <td>1</td>\n",
       "      <td>is cheap but ok quality</td>\n",
       "      <td>it doe a beautiful job i have used this item w...</td>\n",
       "    </tr>\n",
       "    <tr>\n",
       "      <th>15</th>\n",
       "      <td>B000SKTZ0S</td>\n",
       "      <td>3</td>\n",
       "      <td>three stars</td>\n",
       "      <td>way too small</td>\n",
       "      <td>Motorola</td>\n",
       "      <td>0</td>\n",
       "      <td>three star</td>\n",
       "      <td>way too small</td>\n",
       "    </tr>\n",
       "    <tr>\n",
       "      <th>16</th>\n",
       "      <td>B000SKTZ0S</td>\n",
       "      <td>1</td>\n",
       "      <td>this phone gave me a concussion and may come w...</td>\n",
       "      <td>i asked my friend to toss me my phone but what...</td>\n",
       "      <td>Motorola</td>\n",
       "      <td>-1</td>\n",
       "      <td>this phone gave me a concussion and may come w...</td>\n",
       "      <td>i asked my friend to toss me my phone but what...</td>\n",
       "    </tr>\n",
       "    <tr>\n",
       "      <th>17</th>\n",
       "      <td>B000SKTZ0S</td>\n",
       "      <td>5</td>\n",
       "      <td>tough phone</td>\n",
       "      <td>we never use cell phones but thought we needed...</td>\n",
       "      <td>Motorola</td>\n",
       "      <td>1</td>\n",
       "      <td>tough phone</td>\n",
       "      <td>we never use cell phone but thought we needed ...</td>\n",
       "    </tr>\n",
       "    <tr>\n",
       "      <th>18</th>\n",
       "      <td>B000SKTZ0S</td>\n",
       "      <td>5</td>\n",
       "      <td>412 years</td>\n",
       "      <td>i have had this model phone for 412 years and ...</td>\n",
       "      <td>Motorola</td>\n",
       "      <td>1</td>\n",
       "      <td>year</td>\n",
       "      <td>i have had this model phone for year and only ...</td>\n",
       "    </tr>\n",
       "    <tr>\n",
       "      <th>19</th>\n",
       "      <td>B000SKTZ0S</td>\n",
       "      <td>5</td>\n",
       "      <td>simply great</td>\n",
       "      <td>easy to use features slim in size at a very go...</td>\n",
       "      <td>Motorola</td>\n",
       "      <td>1</td>\n",
       "      <td>simply great</td>\n",
       "      <td>easy to use feature slim in size at a very goo...</td>\n",
       "    </tr>\n",
       "  </tbody>\n",
       "</table>\n",
       "</div>"
      ],
      "text/plain": [
       "          asin  rating                                              title  \\\n",
       "0   B0009N5L7K       1                                       stupid phone   \n",
       "1   B0009N5L7K       4                                   exellent service   \n",
       "2   B0009N5L7K       5                                          i love it   \n",
       "3   B0009N5L7K       1                                      phones locked   \n",
       "4   B0009N5L7K       5                                  excellent product   \n",
       "5   B0009N5L7K       1                                            warning   \n",
       "6   B0009N5L7K       5                                 nextel boost phone   \n",
       "7   B000SKTZ0S       4                                           nice but   \n",
       "8   B000SKTZ0S       1  it seems it doesnt work with the existing att ...   \n",
       "9   B000SKTZ0S       1                                  supply are needed   \n",
       "10  B000SKTZ0S       5                                         five stars   \n",
       "11  B000SKTZ0S       3                                       does the job   \n",
       "12  B000SKTZ0S       4                                 awesome with a but   \n",
       "13  B000SKTZ0S       1                                           one star   \n",
       "14  B000SKTZ0S       5                            is cheap but ok quality   \n",
       "15  B000SKTZ0S       3                                        three stars   \n",
       "16  B000SKTZ0S       1  this phone gave me a concussion and may come w...   \n",
       "17  B000SKTZ0S       5                                        tough phone   \n",
       "18  B000SKTZ0S       5                                          412 years   \n",
       "19  B000SKTZ0S       5                                       simply great   \n",
       "\n",
       "                                                 body     brand Sentiment  \\\n",
       "0                             dont buy out of service  Motorola        -1   \n",
       "1   i have been with nextel for nearly a year now ...  Motorola         1   \n",
       "2   i just got it and have to say its easy to use ...  Motorola         1   \n",
       "3   1 star because the phones locked so i have to ...  Motorola        -1   \n",
       "4   the product has been very good i had used this...  Motorola         1   \n",
       "5   my problems with nextel did not stop when i ca...  Motorola        -1   \n",
       "6   great product that is as great for nextel as i...  Motorola         1   \n",
       "7   i bought this phone to replace an lg phone tha...  Motorola         1   \n",
       "8   i purchased this phone for my att phone replac...  Motorola        -1   \n",
       "9   the phone did not come with a charger and didn...  Motorola        -1   \n",
       "10                  served me well as a back up phone  Motorola         1   \n",
       "11  i got this phone just as secondary cell phone ...  Motorola         0   \n",
       "12  sturdy  clarity is great  easy to use only pro...  Motorola         1   \n",
       "13                               phone stoped working  Motorola        -1   \n",
       "14  it does a beautiful job i have used this item ...  Motorola         1   \n",
       "15                                      way too small  Motorola         0   \n",
       "16  i asked my friend to toss me my phone but what...  Motorola        -1   \n",
       "17  we never use cell phones but thought we needed...  Motorola         1   \n",
       "18  i have had this model phone for 412 years and ...  Motorola         1   \n",
       "19  easy to use features slim in size at a very go...  Motorola         1   \n",
       "\n",
       "                                          clean_title  \\\n",
       "0                                        stupid phone   \n",
       "1                                    exellent service   \n",
       "2                                           i love it   \n",
       "3                                        phone locked   \n",
       "4                                   excellent product   \n",
       "5                                             warning   \n",
       "6                                  nextel boost phone   \n",
       "7                                            nice but   \n",
       "8   it seems it doesnt work with the existing att ...   \n",
       "9                                   supply are needed   \n",
       "10                                          five star   \n",
       "11                                        doe the job   \n",
       "12                                 awesome with a but   \n",
       "13                                           one star   \n",
       "14                            is cheap but ok quality   \n",
       "15                                         three star   \n",
       "16  this phone gave me a concussion and may come w...   \n",
       "17                                        tough phone   \n",
       "18                                               year   \n",
       "19                                       simply great   \n",
       "\n",
       "                                           clean_body  \n",
       "0                             dont buy out of service  \n",
       "1   i have been with nextel for nearly a year now ...  \n",
       "2   i just got it and have to say it easy to use i...  \n",
       "3   star because the phone locked so i have to pay...  \n",
       "4   the product ha been very good i had used this ...  \n",
       "5   my problem with nextel did not stop when i can...  \n",
       "6   great product that is a great for nextel a it ...  \n",
       "7   i bought this phone to replace an lg phone tha...  \n",
       "8   i purchased this phone for my att phone replac...  \n",
       "9   the phone did not come with a charger and didn...  \n",
       "10                   served me well a a back up phone  \n",
       "11  i got this phone just a secondary cell phone i...  \n",
       "12  sturdy clarity is great easy to use only probl...  \n",
       "13                               phone stoped working  \n",
       "14  it doe a beautiful job i have used this item w...  \n",
       "15                                      way too small  \n",
       "16  i asked my friend to toss me my phone but what...  \n",
       "17  we never use cell phone but thought we needed ...  \n",
       "18  i have had this model phone for year and only ...  \n",
       "19  easy to use feature slim in size at a very goo...  "
      ]
     },
     "execution_count": 80,
     "metadata": {},
     "output_type": "execute_result"
    }
   ],
   "source": [
    "df.head(20)"
   ]
  },
  {
   "cell_type": "code",
   "execution_count": 81,
   "id": "16f36681",
   "metadata": {},
   "outputs": [],
   "source": [
    "df.drop(columns = ['title', 'body'],inplace=True)\n"
   ]
  },
  {
   "cell_type": "code",
   "execution_count": 82,
   "id": "f9033f9a",
   "metadata": {},
   "outputs": [],
   "source": [
    "#Transform ‘body’ using TF-IDF vectorizer\n",
    "\n",
    "#Feature Engineering using TF-IDF\n",
    "from sklearn.feature_extraction.text import TfidfVectorizer\n"
   ]
  },
  {
   "cell_type": "code",
   "execution_count": 83,
   "id": "549007ea",
   "metadata": {},
   "outputs": [],
   "source": [
    "tfidf=TfidfVectorizer(min_df=5, max_df=0.95, max_features = 20000, ngram_range = ( 1, 2 ),sublinear_tf = True)"
   ]
  },
  {
   "cell_type": "code",
   "execution_count": 84,
   "id": "c3dae2a4",
   "metadata": {},
   "outputs": [],
   "source": [
    "tfidf=tfidf.fit(df['clean_body'])"
   ]
  },
  {
   "cell_type": "code",
   "execution_count": 85,
   "id": "1c944860",
   "metadata": {},
   "outputs": [
    {
     "data": {
      "text/plain": [
       "(67772, 20000)"
      ]
     },
     "execution_count": 85,
     "metadata": {},
     "output_type": "execute_result"
    }
   ],
   "source": [
    "X1=tfidf.transform(df['clean_body'])\n",
    "X1.shape"
   ]
  },
  {
   "cell_type": "code",
   "execution_count": 86,
   "id": "8ae1447d",
   "metadata": {},
   "outputs": [
    {
     "data": {
      "text/plain": [
       "(67772,)"
      ]
     },
     "execution_count": 86,
     "metadata": {},
     "output_type": "execute_result"
    }
   ],
   "source": [
    "#Split data into X and Y. (Vectorized data should be X and sentiment should be Y.)\n",
    "\n",
    "y=df['Sentiment'].values\n",
    "y.shape"
   ]
  },
  {
   "cell_type": "code",
   "execution_count": 87,
   "id": "ec9890a0",
   "metadata": {},
   "outputs": [],
   "source": [
    "#Using the TF-IDF features on machine learning algorithms\n",
    "\n",
    "X = X1"
   ]
  },
  {
   "cell_type": "markdown",
   "id": "1625be24",
   "metadata": {},
   "source": [
    "Q6. Model Building \n"
   ]
  },
  {
   "cell_type": "code",
   "execution_count": 88,
   "id": "0b5fef14",
   "metadata": {},
   "outputs": [
    {
     "name": "stdout",
     "output_type": "stream",
     "text": [
      "(54217, 20000) (54217,)\n",
      "(13555, 20000) (13555,)\n"
     ]
    }
   ],
   "source": [
    "#Split data into 80% train and 20% test data\n",
    "# train test split\n",
    "from sklearn.model_selection import train_test_split\n",
    "X_train, X_test, y_train, y_test = train_test_split(X, y, test_size=0.2, random_state=0)\n",
    "print(X_train.shape, y_train.shape)\n",
    "print(X_test.shape, y_test.shape)"
   ]
  },
  {
   "cell_type": "code",
   "execution_count": 91,
   "id": "62155b9e",
   "metadata": {},
   "outputs": [
    {
     "name": "stdout",
     "output_type": "stream",
     "text": [
      "Accuracy for Logistic Regression : 0.8749538915529325\n",
      "Confusion matrix for Logistic Regression:\n",
      " [[2720   35  488]\n",
      " [ 358   76  478]\n",
      " [ 295   41 9064]]\n"
     ]
    },
    {
     "name": "stderr",
     "output_type": "stream",
     "text": [
      "C:\\Users\\asus\\Anaconda3\\anaconda\\envs\\tensorflow\\lib\\site-packages\\sklearn\\linear_model\\_logistic.py:763: ConvergenceWarning: lbfgs failed to converge (status=1):\n",
      "STOP: TOTAL NO. of ITERATIONS REACHED LIMIT.\n",
      "\n",
      "Increase the number of iterations (max_iter) or scale the data as shown in:\n",
      "    https://scikit-learn.org/stable/modules/preprocessing.html\n",
      "Please also refer to the documentation for alternative solver options:\n",
      "    https://scikit-learn.org/stable/modules/linear_model.html#logistic-regression\n",
      "  n_iter_i = _check_optimize_result(\n"
     ]
    }
   ],
   "source": [
    "#Build a Classification model to predict sentiment\n",
    "\n",
    "\n",
    "#Implementing Logistic Based Regression model\n",
    "from sklearn.linear_model import LogisticRegression as lr\n",
    "from sklearn.metrics import accuracy_score\n",
    "from sklearn.metrics import confusion_matrix\n",
    "model_lr=lr(random_state=0)\n",
    "model_lr.fit(X_train,y_train)\n",
    "y_pred_lr=model_lr.predict(X_test)\n",
    "print('Accuracy for Logistic Regression :',accuracy_score(y_test,y_pred_lr))\n",
    "print('Confusion matrix for Logistic Regression:\\n',confusion_matrix(y_test,y_pred_lr))"
   ]
  },
  {
   "cell_type": "code",
   "execution_count": 94,
   "id": "111ea641",
   "metadata": {},
   "outputs": [
    {
     "name": "stdout",
     "output_type": "stream",
     "text": [
      "Accuracy for Logistic Regression for test data : 0.8749538915529325\n",
      "Accuracy for Logistic Regression for train data: 0.9073906708228047\n"
     ]
    }
   ],
   "source": [
    "#Print accuracy score for train and test data both \n",
    "print('Accuracy for Logistic Regression for test data :',accuracy_score(y_test,y_pred_lr))\n",
    "yt_pred_lr=model_lr.predict(X_train)\n",
    "print('Accuracy for Logistic Regression for train data:',accuracy_score(y_train,yt_pred_lr))"
   ]
  },
  {
   "cell_type": "code",
   "execution_count": null,
   "id": "44519a61",
   "metadata": {},
   "outputs": [],
   "source": [
    "#State whether model is underfitting / Overfitting / Good fit\n"
   ]
  },
  {
   "cell_type": "code",
   "execution_count": null,
   "id": "1e60bfda",
   "metadata": {},
   "outputs": [],
   "source": []
  }
 ],
 "metadata": {
  "kernelspec": {
   "display_name": "Python 3",
   "language": "python",
   "name": "python3"
  },
  "language_info": {
   "codemirror_mode": {
    "name": "ipython",
    "version": 3
   },
   "file_extension": ".py",
   "mimetype": "text/x-python",
   "name": "python",
   "nbconvert_exporter": "python",
   "pygments_lexer": "ipython3",
   "version": "3.8.8"
  }
 },
 "nbformat": 4,
 "nbformat_minor": 5
}
